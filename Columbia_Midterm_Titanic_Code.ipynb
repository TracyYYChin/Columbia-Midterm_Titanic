{
  "nbformat": 4,
  "nbformat_minor": 0,
  "metadata": {
    "colab": {
      "provenance": [],
      "authorship_tag": "ABX9TyOvjoQ++y4PnMqntF8Gf2r0",
      "include_colab_link": true
    },
    "kernelspec": {
      "name": "python3",
      "display_name": "Python 3"
    },
    "language_info": {
      "name": "python"
    }
  },
  "cells": [
    {
      "cell_type": "markdown",
      "metadata": {
        "id": "view-in-github",
        "colab_type": "text"
      },
      "source": [
        "<a href=\"https://colab.research.google.com/github/TracyYYChin/Columbia-Midterm_Titanic/blob/main/Columbia_Midterm_Titanic_Code.ipynb\" target=\"_parent\"><img src=\"https://colab.research.google.com/assets/colab-badge.svg\" alt=\"Open In Colab\"/></a>"
      ]
    },
    {
      "cell_type": "markdown",
      "source": [
        "#**Columbia Midterm_ Titanic**\n",
        "\n",
        "Data Set Source: https://www.kaggle.com/c/titanic/data."
      ],
      "metadata": {
        "id": "l8ElLx9cxsAd"
      }
    },
    {
      "cell_type": "markdown",
      "source": [
        "#**Load Dataset**\n"
      ],
      "metadata": {
        "id": "4yThqSYk4x0o"
      }
    },
    {
      "cell_type": "code",
      "execution_count": 1,
      "metadata": {
        "colab": {
          "base_uri": "https://localhost:8080/"
        },
        "id": "mpUsMENMt_7J",
        "outputId": "cc5e4f32-31a2-4412-f8d9-cb4b383f4048"
      },
      "outputs": [
        {
          "output_type": "stream",
          "name": "stdout",
          "text": [
            "Requirement already satisfied: matplotlib in /usr/local/lib/python3.10/dist-packages (3.7.1)\n",
            "Requirement already satisfied: seaborn in /usr/local/lib/python3.10/dist-packages (0.13.1)\n",
            "Requirement already satisfied: contourpy>=1.0.1 in /usr/local/lib/python3.10/dist-packages (from matplotlib) (1.2.0)\n",
            "Requirement already satisfied: cycler>=0.10 in /usr/local/lib/python3.10/dist-packages (from matplotlib) (0.12.1)\n",
            "Requirement already satisfied: fonttools>=4.22.0 in /usr/local/lib/python3.10/dist-packages (from matplotlib) (4.50.0)\n",
            "Requirement already satisfied: kiwisolver>=1.0.1 in /usr/local/lib/python3.10/dist-packages (from matplotlib) (1.4.5)\n",
            "Requirement already satisfied: numpy>=1.20 in /usr/local/lib/python3.10/dist-packages (from matplotlib) (1.25.2)\n",
            "Requirement already satisfied: packaging>=20.0 in /usr/local/lib/python3.10/dist-packages (from matplotlib) (24.0)\n",
            "Requirement already satisfied: pillow>=6.2.0 in /usr/local/lib/python3.10/dist-packages (from matplotlib) (9.4.0)\n",
            "Requirement already satisfied: pyparsing>=2.3.1 in /usr/local/lib/python3.10/dist-packages (from matplotlib) (3.1.2)\n",
            "Requirement already satisfied: python-dateutil>=2.7 in /usr/local/lib/python3.10/dist-packages (from matplotlib) (2.8.2)\n",
            "Requirement already satisfied: pandas>=1.2 in /usr/local/lib/python3.10/dist-packages (from seaborn) (2.0.3)\n",
            "Requirement already satisfied: pytz>=2020.1 in /usr/local/lib/python3.10/dist-packages (from pandas>=1.2->seaborn) (2023.4)\n",
            "Requirement already satisfied: tzdata>=2022.1 in /usr/local/lib/python3.10/dist-packages (from pandas>=1.2->seaborn) (2024.1)\n",
            "Requirement already satisfied: six>=1.5 in /usr/local/lib/python3.10/dist-packages (from python-dateutil>=2.7->matplotlib) (1.16.0)\n"
          ]
        }
      ],
      "source": [
        "!pip install matplotlib seaborn\n",
        "import pandas as pd\n",
        "from sklearn.ensemble import RandomForestRegressor\n",
        "from sklearn.impute import SimpleImputer\n",
        "from sklearn.preprocessing import LabelEncoder"
      ]
    },
    {
      "cell_type": "code",
      "source": [
        "# Load the dataset\n",
        "file_path = 'Titanic-Dataset.csv'\n",
        "titanic_data = pd.read_csv(file_path)"
      ],
      "metadata": {
        "id": "zGRv3_h4uR1s"
      },
      "execution_count": 2,
      "outputs": []
    },
    {
      "cell_type": "code",
      "source": [
        "# Display all column names\n",
        "print(titanic_data.columns)\n"
      ],
      "metadata": {
        "colab": {
          "base_uri": "https://localhost:8080/"
        },
        "id": "leSR_hW_vBjQ",
        "outputId": "14adfd59-7b38-42c8-ba57-a42fdc81348e"
      },
      "execution_count": 4,
      "outputs": [
        {
          "output_type": "stream",
          "name": "stdout",
          "text": [
            "Index(['PassengerId', 'Survived', 'Pclass', 'Name', 'Sex', 'Age', 'SibSp',\n",
            "       'Parch', 'Ticket', 'Fare', 'Cabin', 'Embarked'],\n",
            "      dtype='object')\n"
          ]
        }
      ]
    },
    {
      "cell_type": "code",
      "source": [
        "# Count missing values per column\n",
        "missing_values_count = titanic_data.isnull().sum()\n",
        "\n",
        "# Display the count of missing values for each column\n",
        "print(missing_values_count)\n"
      ],
      "metadata": {
        "colab": {
          "base_uri": "https://localhost:8080/"
        },
        "id": "Dnih3XtQvoAx",
        "outputId": "3e9124e9-5b95-4cda-8c88-8e6a8f60596d"
      },
      "execution_count": 7,
      "outputs": [
        {
          "output_type": "stream",
          "name": "stdout",
          "text": [
            "PassengerId      0\n",
            "Survived         0\n",
            "Pclass           0\n",
            "Name             0\n",
            "Sex              0\n",
            "Age            177\n",
            "SibSp            0\n",
            "Parch            0\n",
            "Ticket           0\n",
            "Fare             0\n",
            "Cabin          687\n",
            "Embarked         2\n",
            "dtype: int64\n"
          ]
        }
      ]
    },
    {
      "cell_type": "markdown",
      "source": [
        "#**Determine Features & Fill Missing Values**"
      ],
      "metadata": {
        "id": "zyXhDGRN42kZ"
      }
    },
    {
      "cell_type": "code",
      "source": [
        "import pandas as pd\n",
        "from statsmodels.stats.outliers_influence import variance_inflation_factor\n",
        "from sklearn.impute import SimpleImputer\n",
        "from sklearn.preprocessing import LabelEncoder\n",
        "\n",
        "# Assuming titanic_data is your preprocessed DataFrame\n",
        "\n",
        "# For demonstration, let's consider only numeric columns (you should adjust this based on your actual model features)\n",
        "numeric_cols = titanic_data.select_dtypes(include=['number']).columns\n",
        "\n",
        "# Optionally, handle missing values for numeric columns. Here we use SimpleImputer as an example\n",
        "imputer = SimpleImputer(strategy='mean')\n",
        "titanic_data_numeric_imputed = pd.DataFrame(imputer.fit_transform(titanic_data[numeric_cols]), columns=numeric_cols)\n",
        "\n",
        "# Calculate VIF\n",
        "vif_data = pd.DataFrame()\n",
        "vif_data[\"feature\"] = titanic_data_numeric_imputed.columns\n",
        "\n",
        "# Calculating VIF for each feature\n",
        "vif_data[\"VIF\"] = [variance_inflation_factor(titanic_data_numeric_imputed.values, i) for i in range(len(titanic_data_numeric_imputed.columns))]\n",
        "\n",
        "print(vif_data)\n"
      ],
      "metadata": {
        "colab": {
          "base_uri": "https://localhost:8080/"
        },
        "id": "I3kMCuzWzcV8",
        "outputId": "6b90802c-4559-4289-dd90-e014e87fbc11"
      },
      "execution_count": 11,
      "outputs": [
        {
          "output_type": "stream",
          "name": "stdout",
          "text": [
            "    feature       VIF\n",
            "0  Survived  1.623010\n",
            "1    Pclass  3.780124\n",
            "2       Age  4.006601\n",
            "3     SibSp  1.565323\n",
            "4     Parch  1.557412\n",
            "5      Fare  1.832622\n"
          ]
        }
      ]
    },
    {
      "cell_type": "markdown",
      "source": [
        "- **PassengerId (3.676625):** This number is moderate, suggesting this info is somewhat tangled up with others but not too much. It's usually just a unique ID and not used for analysis.\n",
        "- **Survived (1.643173):** This low number means the survival data doesn't mix much with other info, making it clear and distinct for predictions.\n",
        "- **Pclass (4.638648):** A bit high, showing that the class of the passenger overlaps with other details like fare or age. It's a sign these aspects are connected.\n",
        "- **Age (4.363632):** Also on the higher side, hinting that age relates to other factors, possibly including class or family size.\n",
        "- **SibSp (1.566975):** Low, indicating the number of siblings or spouses aboard is quite separate from other information.\n",
        "- **Parch (1.558459):** Similarly low, meaning the number of parents or children aboard stands apart from other details.\n",
        "- **Fare (1.872085):** Relatively low, suggesting fare is mostly independent but has a slight overlap, maybe with passenger class."
      ],
      "metadata": {
        "id": "QduLmXWN0Gfs"
      }
    },
    {
      "cell_type": "code",
      "source": [
        "import pandas as pd\n",
        "from sklearn.impute import SimpleImputer\n",
        "from statsmodels.stats.outliers_influence import variance_inflation_factor\n",
        "\n",
        "# Load the dataset\n",
        "file_path = 'Titanic-Dataset.csv'\n",
        "titanic_data = pd.read_csv(file_path)\n",
        "\n",
        "# Drop the 'PassengerId', 'Ticket', 'Name', and 'Cabin' columns\n",
        "titanic_data = titanic_data.drop(['PassengerId', 'Ticket', 'Name', 'Cabin'], axis=1)\n",
        "\n",
        "# For demonstration, let's consider only numeric columns (adjust based on your model features)\n",
        "numeric_cols = titanic_data.select_dtypes(include=['number']).columns\n",
        "\n",
        "# Handle missing values for numeric columns using SimpleImputer (mean strategy)\n",
        "imputer = SimpleImputer(strategy='mean')\n",
        "titanic_data_numeric_imputed = pd.DataFrame(imputer.fit_transform(titanic_data[numeric_cols]), columns=numeric_cols)\n",
        "\n",
        "# Prepare DataFrame for VIF calculation\n",
        "vif_data = pd.DataFrame()\n",
        "vif_data[\"feature\"] = titanic_data_numeric_imputed.columns\n",
        "\n",
        "# Calculate VIF for each numeric feature\n",
        "vif_data[\"VIF\"] = [variance_inflation_factor(titanic_data_numeric_imputed.values, i) for i in range(len(titanic_data_numeric_imputed.columns))]\n",
        "\n",
        "# Display VIF results\n",
        "print(vif_data)\n"
      ],
      "metadata": {
        "colab": {
          "base_uri": "https://localhost:8080/"
        },
        "id": "r_T8mS0K0GJV",
        "outputId": "ff49c1cc-ffb9-4de9-8e6d-5c2b08ad11a8"
      },
      "execution_count": 12,
      "outputs": [
        {
          "output_type": "stream",
          "name": "stdout",
          "text": [
            "    feature       VIF\n",
            "0  Survived  1.623010\n",
            "1    Pclass  3.780124\n",
            "2       Age  4.006601\n",
            "3     SibSp  1.565323\n",
            "4     Parch  1.557412\n",
            "5      Fare  1.832622\n"
          ]
        }
      ]
    },
    {
      "cell_type": "code",
      "source": [
        "# Dropping the 'Fare' column\n",
        "titanic_data = titanic_data.drop(['Fare'], axis=1)\n",
        "\n",
        "# Display the updated DataFrame to confirm the column has been removed\n",
        "print(titanic_data.columns)\n"
      ],
      "metadata": {
        "colab": {
          "base_uri": "https://localhost:8080/"
        },
        "id": "Y9f7mMCi00kl",
        "outputId": "2d1b811d-49e0-49a7-859a-67cee34cbbb3"
      },
      "execution_count": 13,
      "outputs": [
        {
          "output_type": "stream",
          "name": "stdout",
          "text": [
            "Index(['Survived', 'Pclass', 'Sex', 'Age', 'SibSp', 'Parch', 'Embarked'], dtype='object')\n"
          ]
        }
      ]
    },
    {
      "cell_type": "code",
      "source": [
        "# 'titanic_data' has already had 'PassengerId', 'Ticket', 'Name', 'Cabin', and 'Fare' dropped\n",
        "# Re-load the dataset for the sake of completeness in this standalone example\n",
        "file_path = 'Titanic-Dataset.csv'\n",
        "titanic_data = pd.read_csv(file_path)\n",
        "\n",
        "# Drop specified columns\n",
        "titanic_data.drop(['PassengerId', 'Ticket', 'Name', 'Cabin', 'Fare'], axis=1, inplace=True)\n",
        "\n",
        "# Print the remaining columns\n",
        "print(\"Remaining Columns:\", titanic_data.columns.tolist())\n",
        "\n",
        "# Count and display missing values per remaining column\n",
        "missing_values_count = titanic_data.isnull().sum()\n",
        "print(\"\\nMissing Values Count:\")\n",
        "print(missing_values_count)\n"
      ],
      "metadata": {
        "colab": {
          "base_uri": "https://localhost:8080/"
        },
        "id": "Tta3t4Ar05ta",
        "outputId": "37cb37c5-ef4c-4eb8-9f4f-224f97e8711f"
      },
      "execution_count": 14,
      "outputs": [
        {
          "output_type": "stream",
          "name": "stdout",
          "text": [
            "Remaining Columns: ['Survived', 'Pclass', 'Sex', 'Age', 'SibSp', 'Parch', 'Embarked']\n",
            "\n",
            "Missing Values Count:\n",
            "Survived      0\n",
            "Pclass        0\n",
            "Sex           0\n",
            "Age         177\n",
            "SibSp         0\n",
            "Parch         0\n",
            "Embarked      2\n",
            "dtype: int64\n"
          ]
        }
      ]
    },
    {
      "cell_type": "code",
      "source": [
        "# Load the dataset\n",
        "file_path = 'Titanic-Dataset.csv'\n",
        "titanic_data = pd.read_csv(file_path)\n",
        "\n",
        "# Drop specified columns\n",
        "titanic_data.drop(['PassengerId', 'Ticket', 'Name', 'Cabin', 'Fare'], axis=1, inplace=True)\n",
        "\n",
        "# Encode categorical variables as necessary (example for 'Sex' and 'Embarked')\n",
        "le = LabelEncoder()\n",
        "titanic_data['Sex'] = le.fit_transform(titanic_data['Sex'])\n",
        "titanic_data['Embarked'] = le.fit_transform(titanic_data['Embarked'].astype(str))\n",
        "\n",
        "# Separate dataset into rows with missing and non-missing Age values\n",
        "age_present = titanic_data[titanic_data['Age'].notnull()]\n",
        "age_missing = titanic_data[titanic_data['Age'].isnull()]\n",
        "\n",
        "# Define features and target\n",
        "X = age_present.drop('Age', axis=1)\n",
        "y = age_present['Age']\n",
        "\n",
        "# Train a Random Forest Regressor\n",
        "rf = RandomForestRegressor(n_estimators=100, random_state=42)\n",
        "rf.fit(X, y)\n",
        "\n",
        "# Predict missing Age values\n",
        "predicted_ages = rf.predict(age_missing.drop('Age', axis=1))\n",
        "\n",
        "# Fill in the missing values in original dataset\n",
        "titanic_data.loc[titanic_data['Age'].isnull(), 'Age'] = predicted_ages\n",
        "\n",
        "# Check if there are any missing values left\n",
        "print(titanic_data.isnull().sum())\n"
      ],
      "metadata": {
        "colab": {
          "base_uri": "https://localhost:8080/"
        },
        "id": "7XbznQh21YDR",
        "outputId": "2ad3d7f3-b9a1-4fca-8268-3ee370b04001"
      },
      "execution_count": 15,
      "outputs": [
        {
          "output_type": "stream",
          "name": "stdout",
          "text": [
            "Survived    0\n",
            "Pclass      0\n",
            "Sex         0\n",
            "Age         0\n",
            "SibSp       0\n",
            "Parch       0\n",
            "Embarked    0\n",
            "dtype: int64\n"
          ]
        }
      ]
    },
    {
      "cell_type": "markdown",
      "source": [
        "Label Encoding for Sex: Since the Sex column is binary (assuming values like male and female), it's suitable for label encoding, which will assign 0 to one category and 1 to the other.\n",
        "\n",
        "One-Hot Encoding for Embarked: The Embarked column has multiple categories (such as C = Cherbourg, Q = Queenstown, S = Southampton) that don't have an inherent order. One-Hot Encoding is suitable here as it creates a new binary column for each category value."
      ],
      "metadata": {
        "id": "k5UhudZp3PMW"
      }
    },
    {
      "cell_type": "code",
      "source": [
        "import pandas as pd\n",
        "from sklearn.preprocessing import LabelEncoder, OneHotEncoder\n",
        "\n",
        "# Load the dataset\n",
        "file_path = 'Titanic-Dataset.csv'\n",
        "titanic_data = pd.read_csv(file_path)\n",
        "\n",
        "# Dropping unnecessary columns for simplicity in this example\n",
        "titanic_data.drop(['PassengerId', 'Ticket', 'Name', 'Cabin', 'Fare'], axis=1, inplace=True)\n",
        "\n",
        "# Label Encoding for 'Sex'\n",
        "le = LabelEncoder()\n",
        "titanic_data['Sex'] = le.fit_transform(titanic_data['Sex'])\n",
        "\n",
        "# One-Hot Encoding for 'Embarked'\n",
        "# Note: It's good practice to handle missing values before one-hot encoding.\n",
        "# Assuming 'Embarked' missing values are filled or there are none.\n",
        "ohe = OneHotEncoder(sparse=False, drop='first')  # drop='first' to avoid multicollinearity by dropping one of the new columns\n",
        "embarked_encoded = ohe.fit_transform(titanic_data[['Embarked']])\n",
        "embarked_encoded_df = pd.DataFrame(embarked_encoded, columns=ohe.get_feature_names_out(['Embarked']))\n",
        "\n",
        "# Concatenate the original DataFrame with the new 'Embarked' one-hot encoded columns\n",
        "titanic_data = pd.concat([titanic_data.drop('Embarked', axis=1), embarked_encoded_df], axis=1)\n",
        "\n",
        "# Display the first few rows to verify changes\n",
        "print(titanic_data.head())\n"
      ],
      "metadata": {
        "colab": {
          "base_uri": "https://localhost:8080/"
        },
        "id": "y62dd7jy2sQA",
        "outputId": "eb923754-1e66-4db1-f4e5-47a8864753f4"
      },
      "execution_count": 16,
      "outputs": [
        {
          "output_type": "stream",
          "name": "stdout",
          "text": [
            "   Survived  Pclass  Sex   Age  SibSp  Parch  Embarked_Q  Embarked_S  \\\n",
            "0         0       3    1  22.0      1      0         0.0         1.0   \n",
            "1         1       1    0  38.0      1      0         0.0         0.0   \n",
            "2         1       3    0  26.0      0      0         0.0         1.0   \n",
            "3         1       1    0  35.0      1      0         0.0         1.0   \n",
            "4         0       3    1  35.0      0      0         0.0         1.0   \n",
            "\n",
            "   Embarked_nan  \n",
            "0           0.0  \n",
            "1           0.0  \n",
            "2           0.0  \n",
            "3           0.0  \n",
            "4           0.0  \n"
          ]
        },
        {
          "output_type": "stream",
          "name": "stderr",
          "text": [
            "/usr/local/lib/python3.10/dist-packages/sklearn/preprocessing/_encoders.py:868: FutureWarning: `sparse` was renamed to `sparse_output` in version 1.2 and will be removed in 1.4. `sparse_output` is ignored unless you leave `sparse` to its default value.\n",
            "  warnings.warn(\n"
          ]
        }
      ]
    },
    {
      "cell_type": "code",
      "source": [
        "import pandas as pd\n",
        "from sklearn.preprocessing import LabelEncoder, OneHotEncoder\n",
        "\n",
        "# Load the dataset\n",
        "file_path = 'Titanic-Dataset.csv'\n",
        "titanic_data = pd.read_csv(file_path)\n",
        "\n",
        "# Drop unnecessary columns\n",
        "titanic_data.drop(['PassengerId', 'Ticket', 'Name', 'Cabin', 'Fare'], axis=1, inplace=True)\n",
        "\n",
        "# Label Encode the 'Sex' column\n",
        "le_sex = LabelEncoder()\n",
        "titanic_data['Sex'] = le_sex.fit_transform(titanic_data['Sex'])\n",
        "\n",
        "# Assuming 'Embarked' column exists and needs to be One-Hot Encoded\n",
        "# Handle missing values in 'Embarked' if necessary\n",
        "titanic_data['Embarked'].fillna('S', inplace=True)  # Example: Filling missing values with 'S' for Southampton\n",
        "\n",
        "# One-Hot Encode the 'Embarked' column\n",
        "ohe_embarked = OneHotEncoder(sparse=False, drop='first')  # Dropping one category to avoid multicollinearity\n",
        "embarked_encoded = ohe_embarked.fit_transform(titanic_data[['Embarked']])\n",
        "embarked_encoded_df = pd.DataFrame(embarked_encoded, columns=ohe_embarked.get_feature_names_out(['Embarked']))\n",
        "\n",
        "# Concatenate the original DataFrame with the encoded 'Embarked' DataFrame\n",
        "titanic_data = pd.concat([titanic_data.drop('Embarked', axis=1), embarked_encoded_df], axis=1)\n",
        "\n",
        "# Rename columns as requested\n",
        "titanic_data.rename(columns={\n",
        "    'Parch': 'Parent/Child',\n",
        "    'SibSp': 'Sibling/Spouse',\n",
        "    'Sex': 'Gender',\n",
        "    'Embarked_Q': 'Queenstown',\n",
        "    'Embarked_S': 'Southampton'\n",
        "}, inplace=True)\n",
        "\n",
        "# Display the first few rows of the processed table\n",
        "print(titanic_data.head())\n"
      ],
      "metadata": {
        "colab": {
          "base_uri": "https://localhost:8080/"
        },
        "id": "f6NoNo5E3TfF",
        "outputId": "042cdb3e-124d-49df-cccc-fac9c7044bfe"
      },
      "execution_count": 17,
      "outputs": [
        {
          "output_type": "stream",
          "name": "stdout",
          "text": [
            "   Survived  Pclass  Gender   Age  Sibling/Spouse  Parent/Child  Queenstown  \\\n",
            "0         0       3       1  22.0               1             0         0.0   \n",
            "1         1       1       0  38.0               1             0         0.0   \n",
            "2         1       3       0  26.0               0             0         0.0   \n",
            "3         1       1       0  35.0               1             0         0.0   \n",
            "4         0       3       1  35.0               0             0         0.0   \n",
            "\n",
            "   Southampton  \n",
            "0          1.0  \n",
            "1          0.0  \n",
            "2          1.0  \n",
            "3          1.0  \n",
            "4          1.0  \n"
          ]
        },
        {
          "output_type": "stream",
          "name": "stderr",
          "text": [
            "/usr/local/lib/python3.10/dist-packages/sklearn/preprocessing/_encoders.py:868: FutureWarning: `sparse` was renamed to `sparse_output` in version 1.2 and will be removed in 1.4. `sparse_output` is ignored unless you leave `sparse` to its default value.\n",
            "  warnings.warn(\n"
          ]
        }
      ]
    },
    {
      "cell_type": "markdown",
      "source": [
        "#**Spearman & Pearson Correlation Matrix**\n"
      ],
      "metadata": {
        "id": "ak4F_VKD5bWz"
      }
    },
    {
      "cell_type": "code",
      "source": [
        "# Calculate Pearson correlation matrix\n",
        "pearson_corr_matrix = titanic_data.corr(method='pearson')\n",
        "print(\"Pearson Correlation Matrix:\\n\", pearson_corr_matrix)\n",
        "\n",
        "# Calculate Spearman correlation matrix\n",
        "spearman_corr_matrix = titanic_data.corr(method='spearman')\n",
        "print(\"\\nSpearman Correlation Matrix:\\n\", spearman_corr_matrix)\n"
      ],
      "metadata": {
        "colab": {
          "base_uri": "https://localhost:8080/"
        },
        "id": "pV1iU29_5Bxz",
        "outputId": "9871239b-9021-4927-9044-bb2de3b6dec8"
      },
      "execution_count": 18,
      "outputs": [
        {
          "output_type": "stream",
          "name": "stdout",
          "text": [
            "Pearson Correlation Matrix:\n",
            "                 Survived    Pclass    Gender       Age  Sibling/Spouse  \\\n",
            "Survived        1.000000 -0.338481 -0.543351 -0.077221       -0.035322   \n",
            "Pclass         -0.338481  1.000000  0.131900 -0.369226        0.083081   \n",
            "Gender         -0.543351  0.131900  1.000000  0.093254       -0.114631   \n",
            "Age            -0.077221 -0.369226  0.093254  1.000000       -0.308247   \n",
            "Sibling/Spouse -0.035322  0.083081 -0.114631 -0.308247        1.000000   \n",
            "Parent/Child    0.081629  0.018443 -0.245489 -0.189119        0.414838   \n",
            "Queenstown      0.003650  0.221009 -0.074115 -0.022405       -0.026354   \n",
            "Southampton    -0.149683  0.074053  0.119224 -0.023233        0.068734   \n",
            "\n",
            "                Parent/Child  Queenstown  Southampton  \n",
            "Survived            0.081629    0.003650    -0.149683  \n",
            "Pclass              0.018443    0.221009     0.074053  \n",
            "Gender             -0.245489   -0.074115     0.119224  \n",
            "Age                -0.189119   -0.022405    -0.023233  \n",
            "Sibling/Spouse      0.414838   -0.026354     0.068734  \n",
            "Parent/Child        1.000000   -0.081228     0.060814  \n",
            "Queenstown         -0.081228    1.000000    -0.499421  \n",
            "Southampton         0.060814   -0.499421     1.000000  \n",
            "\n",
            "Spearman Correlation Matrix:\n",
            "                 Survived    Pclass    Gender       Age  Sibling/Spouse  \\\n",
            "Survived        1.000000 -0.339668 -0.543351 -0.052565        0.088879   \n",
            "Pclass         -0.339668  1.000000  0.135775 -0.361666       -0.043019   \n",
            "Gender         -0.543351  0.135775  1.000000  0.083330       -0.195204   \n",
            "Age            -0.052565 -0.361666  0.083330  1.000000       -0.182061   \n",
            "Sibling/Spouse  0.088879 -0.043019 -0.195204 -0.182061        1.000000   \n",
            "Parent/Child    0.138266 -0.022801 -0.254512 -0.254212        0.450014   \n",
            "Queenstown      0.003650  0.229763 -0.074115 -0.034090       -0.048537   \n",
            "Southampton    -0.149683  0.049011  0.119224 -0.008678        0.018115   \n",
            "\n",
            "                Parent/Child  Queenstown  Southampton  \n",
            "Survived            0.138266    0.003650    -0.149683  \n",
            "Pclass             -0.022801    0.229763     0.049011  \n",
            "Gender             -0.254512   -0.074115     0.119224  \n",
            "Age                -0.254212   -0.034090    -0.008678  \n",
            "Sibling/Spouse      0.450014   -0.048537     0.018115  \n",
            "Parent/Child        1.000000   -0.099250     0.042209  \n",
            "Queenstown         -0.099250    1.000000    -0.499421  \n",
            "Southampton         0.042209   -0.499421     1.000000  \n"
          ]
        }
      ]
    },
    {
      "cell_type": "markdown",
      "source": [
        "- **Gender and Survival:** Both Pearson and Spearman correlations show a strong negative relationship between gender and survival. This indicates that females (coded as `0`) were more likely to survive than males (coded as `1`), highlighting gender as a significant factor in survival rates on the Titanic.\n",
        "\n",
        "- **Class and Survival:** There's a notable negative correlation between passenger class (`Pclass`) and survival in both matrices. This suggests that passengers in higher classes (lower `Pclass` values) had a better chance of survival, which points towards socio-economic status playing a role in survival likelihood.\n",
        "\n",
        "- **Family Connections:** The Spearman correlation highlights a positive relationship between having parents/children aboard (`Parent/Child`) and survival, stronger than Pearson's correlation. Similarly, having siblings/spouses aboard (`Sibling/Spouse`) shows a positive correlation with survival in the Spearman matrix, suggesting that passengers with family aboard might have had better survival chances, potentially due to family members aiding each other."
      ],
      "metadata": {
        "id": "43PCiAMT5xC4"
      }
    },
    {
      "cell_type": "code",
      "source": [
        "from sklearn.impute import SimpleImputer\n",
        "from sklearn.compose import ColumnTransformer\n",
        "from sklearn.pipeline import Pipeline\n",
        "from sklearn.preprocessing import StandardScaler\n",
        "\n",
        "# Imputing missing values for all numeric columns\n",
        "numeric_features = X_train.select_dtypes(include=['int64', 'float64']).columns\n",
        "numeric_transformer = Pipeline(steps=[\n",
        "    ('imputer', SimpleImputer(strategy='median')),\n",
        "    ('scaler', StandardScaler())])\n",
        "\n",
        "# Apply transformations only to numeric features\n",
        "preprocessor = ColumnTransformer(\n",
        "    transformers=[\n",
        "        ('num', numeric_transformer, numeric_features)])\n",
        "\n",
        "# Define the model\n",
        "model = RandomForestClassifier(random_state=42)\n",
        "\n",
        "# Create a full pipeline with both preprocessor and model\n",
        "clf = Pipeline(steps=[('preprocessor', preprocessor),\n",
        "                      ('model', model)])\n",
        "\n",
        "# Setting up parameter grid for the model in the pipeline\n",
        "param_grid = {\n",
        "    'model__n_estimators': [100, 200],\n",
        "    'model__max_depth': [None, 5, 10],\n",
        "    'model__min_samples_split': [2, 5],\n",
        "    'model__min_samples_leaf': [1, 2]\n",
        "}\n",
        "\n",
        "# Setting up GridSearchCV with the pipeline\n",
        "grid_search = GridSearchCV(clf, param_grid, cv=5, scoring='accuracy', n_jobs=-1)\n",
        "\n",
        "# Fitting GridSearchCV to the training data\n",
        "grid_search.fit(X_train, y_train)\n",
        "\n",
        "# Print the best parameters and the best score from GridSearch\n",
        "print(\"Best Parameters:\", grid_search.best_params_)\n",
        "print(\"Best Cross-Validation Score:\", grid_search.best_score_)\n",
        "\n",
        "# Evaluate the best model on the test set\n",
        "test_accuracy = grid_search.score(X_test, y_test)\n",
        "print(\"Test Accuracy:\", test_accuracy)\n"
      ],
      "metadata": {
        "colab": {
          "base_uri": "https://localhost:8080/"
        },
        "id": "MftM9o6j6roK",
        "outputId": "f9adec25-4f7f-46b7-8c4a-5532d230b110"
      },
      "execution_count": 25,
      "outputs": [
        {
          "output_type": "stream",
          "name": "stdout",
          "text": [
            "Best Parameters: {'model__max_depth': 5, 'model__min_samples_leaf': 2, 'model__min_samples_split': 5, 'model__n_estimators': 100}\n",
            "Best Cross-Validation Score: 0.8342558849601103\n",
            "Test Accuracy: 0.8156424581005587\n"
          ]
        }
      ]
    },
    {
      "cell_type": "markdown",
      "source": [
        "Defines a numeric_transformer pipeline that imputes missing values using the median for all numeric features and scales them.\n",
        "Uses a ColumnTransformer to apply the numeric transformations only to the numeric columns.\n",
        "Creates a pipeline that first preprocesses the data and then fits the RandomForestClassifier model.\n",
        "Adjusts the parameter grid to work with the pipeline structure (note the model__ prefix for model parameters).\n",
        "Conducts a grid search to find the best model parameters and evaluates the model on the test set."
      ],
      "metadata": {
        "id": "94d2SnDf7gEe"
      }
    },
    {
      "cell_type": "markdown",
      "source": [
        "- **Optimal Model Configuration:** The best performing RandomForestClassifier model, according to GridSearchCV, is configured with a maximum tree depth of 5 levels, requires at least 2 samples to be at a leaf node, needs at least 5 samples to split an internal node, and uses 100 trees in the forest. These parameters strike a balance between model complexity and generalization capability.\n",
        "\n",
        "- **Cross-Validation Performance:** The model achieved an average accuracy of approximately 83.43% across the different folds of cross-validation. This indicates a strong predictive performance on the training data when evaluated in a robust manner that mitigates overfitting through cross-validation.\n",
        "\n",
        "- **Generalization to Unseen Data:** When applied to the test dataset, which the model had not seen during training, it attained an accuracy of about 81.56%. This shows that the model, with its tuned hyperparameters, generalizes well to new, unseen data, maintaining a high level of accuracy outside of its training environment."
      ],
      "metadata": {
        "id": "UxuttIPO7k0u"
      }
    },
    {
      "cell_type": "markdown",
      "source": [
        "#**MODELS**"
      ],
      "metadata": {
        "id": "R69YlE6o-CyB"
      }
    },
    {
      "cell_type": "code",
      "source": [
        "from sklearn.model_selection import train_test_split\n",
        "from sklearn.impute import SimpleImputer\n",
        "from sklearn.ensemble import RandomForestClassifier\n",
        "from sklearn.metrics import accuracy_score\n",
        "from sklearn.pipeline import Pipeline\n",
        "from sklearn.compose import ColumnTransformer\n",
        "from sklearn.preprocessing import OneHotEncoder, StandardScaler\n",
        "\n",
        "# Splitting dataset into features and target variable\n",
        "X = titanic_data.drop(['Survived'], axis=1)\n",
        "y = titanic_data['Survived']\n",
        "\n",
        "# Splitting dataset into training and testing sets\n",
        "X_train, X_test, y_train, y_test = train_test_split(X, y, test_size=0.2, random_state=42)\n",
        "\n",
        "# Identifying numerical and categorical columns\n",
        "num_cols = X_train.select_dtypes(include=['int64', 'float64']).columns\n",
        "cat_cols = X_train.select_dtypes(include=['object', 'category']).columns\n",
        "\n",
        "# Creating column transformers for imputing missing values\n",
        "# Numeric features\n",
        "num_transformer = Pipeline(steps=[\n",
        "    ('imputer', SimpleImputer(strategy='median')),\n",
        "    ('scaler', StandardScaler())])\n",
        "\n",
        "# Categorical features\n",
        "cat_transformer = Pipeline(steps=[\n",
        "    ('imputer', SimpleImputer(strategy='most_frequent')),\n",
        "    ('onehot', OneHotEncoder(handle_unknown='ignore'))])\n",
        "\n",
        "# Bundling preprocessing for numerical and categorical data\n",
        "preprocessor = ColumnTransformer(\n",
        "    transformers=[\n",
        "        ('num', num_transformer, num_cols),\n",
        "        ('cat', cat_transformer, cat_cols)])\n",
        "\n",
        "# Creating a preprocessing and training pipeline\n",
        "pipeline = Pipeline(steps=[('preprocessor', preprocessor),\n",
        "                           ('classifier', RandomForestClassifier(n_estimators=100, max_depth=5, random_state=42))])\n",
        "\n",
        "# Fitting the pipeline to the training data\n",
        "pipeline.fit(X_train, y_train)\n",
        "\n",
        "# Predicting on the test data\n",
        "y_pred = pipeline.predict(X_test)\n",
        "\n",
        "# Calculating the accuracy\n",
        "accuracy = accuracy_score(y_test, y_pred)\n",
        "print(\"Test Accuracy:\", accuracy)\n"
      ],
      "metadata": {
        "colab": {
          "base_uri": "https://localhost:8080/"
        },
        "id": "Hb3Dspsz7jnx",
        "outputId": "93c39c2e-e44a-42c6-8675-df9bb0796a7d"
      },
      "execution_count": 30,
      "outputs": [
        {
          "output_type": "stream",
          "name": "stdout",
          "text": [
            "Test Accuracy: 0.8156424581005587\n"
          ]
        }
      ]
    },
    {
      "cell_type": "markdown",
      "source": [
        "The reported test accuracy score of approximately 0.816 means:\n",
        "\n",
        "- **Model Performance:** The model accurately predicted whether passengers survived or not on the Titanic about 81.6% of the time when evaluated on the test dataset, which it had not seen during training. This indicates a relatively high level of accuracy and suggests that the model has learned meaningful patterns from the training data.\n",
        "\n",
        "- **Model Type:** This score was reported for a `RandomForestClassifier` model. This type of model is a popular ensemble learning method that operates by constructing a multitude of decision trees at training time and outputting the class that is the mode of the classes of the individual trees for classification tasks.\n",
        "\n",
        "- **Generalization:** An accuracy score of 0.816 on the test set implies that the model generalizes well to new, unseen data. It means that the patterns and relationships it learned during training are broadly applicable, allowing it to make predictions with a good degree of reliability outside of the training dataset."
      ],
      "metadata": {
        "id": "w0k8RhI99Fxs"
      }
    },
    {
      "cell_type": "code",
      "source": [
        "import pandas as pd\n",
        "from sklearn.model_selection import train_test_split\n",
        "from xgboost import XGBClassifier\n",
        "from sklearn.svm import SVC\n",
        "from sklearn.linear_model import LogisticRegression\n",
        "from sklearn.tree import DecisionTreeClassifier\n",
        "from sklearn.metrics import accuracy_score\n",
        "from sklearn.pipeline import make_pipeline\n",
        "from sklearn.compose import ColumnTransformer\n",
        "from sklearn.impute import SimpleImputer\n",
        "from sklearn.preprocessing import OneHotEncoder, StandardScaler\n",
        "\n",
        "# Load and preprocess the Titanic dataset\n",
        "file_path = 'Titanic-Dataset.csv'\n",
        "titanic_data = pd.read_csv(file_path)\n",
        "\n",
        "# Encode 'Sex' and 'Embarked' using LabelEncoder for simplicity\n",
        "le = LabelEncoder()\n",
        "titanic_data['Sex'] = le.fit_transform(titanic_data['Sex'])\n",
        "titanic_data['Embarked'] = le.fit_transform(titanic_data['Embarked'].fillna('S'))\n",
        "\n",
        "# Define features and target\n",
        "X = titanic_data.drop(['Survived', 'PassengerId', 'Ticket', 'Name', 'Cabin', 'Fare'], axis=1)\n",
        "y = titanic_data['Survived']\n",
        "\n",
        "# Splitting dataset into training and testing sets\n",
        "X_train, X_test, y_train, y_test = train_test_split(X, y, test_size=0.2, random_state=42)\n",
        "\n",
        "# Preprocessing for numeric features: imputation + scaling\n",
        "numeric_features = ['Age', 'SibSp', 'Parch']\n",
        "numeric_transformer = make_pipeline(SimpleImputer(strategy='median'), StandardScaler())\n",
        "\n",
        "# Preprocessing for categorical features: imputation + one hot encoding\n",
        "categorical_features = ['Pclass', 'Sex', 'Embarked']\n",
        "categorical_transformer = make_pipeline(SimpleImputer(strategy='most_frequent'), OneHotEncoder(handle_unknown='ignore'))\n",
        "\n",
        "# Bundle preprocessing for numeric and categorical data\n",
        "preprocessor = ColumnTransformer(transformers=[\n",
        "    ('num', numeric_transformer, numeric_features),\n",
        "    ('cat', categorical_transformer, categorical_features)])\n",
        "\n",
        "# Models to train\n",
        "models = {\n",
        "    'XGBoost': XGBClassifier(use_label_encoder=False, eval_metric='logloss'),\n",
        "    'SVM': SVC(),\n",
        "    'LogisticRegression': LogisticRegression(),\n",
        "    'DecisionTree': DecisionTreeClassifier()\n",
        "}\n",
        "\n",
        "for name, model in models.items():\n",
        "    # Create a pipeline\n",
        "    pipeline = make_pipeline(preprocessor, model)\n",
        "\n",
        "    # Train the model\n",
        "    pipeline.fit(X_train, y_train)\n",
        "\n",
        "    # Make predictions\n",
        "    y_pred = pipeline.predict(X_test)\n",
        "\n",
        "    # Print accuracy\n",
        "    print(f'{name} Accuracy:', accuracy_score(y_test, y_pred))\n"
      ],
      "metadata": {
        "colab": {
          "base_uri": "https://localhost:8080/"
        },
        "id": "IoXToDEq9G9y",
        "outputId": "854f92d2-87b8-4135-febb-470689990911"
      },
      "execution_count": 31,
      "outputs": [
        {
          "output_type": "stream",
          "name": "stdout",
          "text": [
            "XGBoost Accuracy: 0.8212290502793296\n",
            "SVM Accuracy: 0.8156424581005587\n",
            "LogisticRegression Accuracy: 0.8044692737430168\n",
            "DecisionTree Accuracy: 0.770949720670391\n"
          ]
        }
      ]
    },
    {
      "cell_type": "markdown",
      "source": [
        "#**ROC AUC**"
      ],
      "metadata": {
        "id": "VYEkFn_0-6rN"
      }
    },
    {
      "cell_type": "code",
      "source": [
        "import pandas as pd\n",
        "from sklearn.model_selection import train_test_split\n",
        "from sklearn.metrics import roc_auc_score, roc_curve, auc\n",
        "import matplotlib.pyplot as plt\n",
        "from sklearn.impute import SimpleImputer\n",
        "from sklearn.preprocessing import LabelEncoder, OneHotEncoder, StandardScaler\n",
        "from sklearn.compose import ColumnTransformer\n",
        "from sklearn.pipeline import make_pipeline\n",
        "from xgboost import XGBClassifier\n",
        "from sklearn.svm import SVC\n",
        "from sklearn.linear_model import LogisticRegression\n",
        "from sklearn.tree import DecisionTreeClassifier\n",
        "\n",
        "# Define X (features) and y (target)\n",
        "X = titanic_data.drop(['Survived'], axis=1)\n",
        "y = titanic_data['Survived']\n",
        "\n",
        "# Train-test split\n",
        "X_train, X_test, y_train, y_test = train_test_split(X, y, test_size=0.2, random_state=42)\n",
        "\n",
        "# Define the preprocessing steps\n",
        "numeric_features = ['Age', 'SibSp', 'Parch']\n",
        "numeric_transformer = make_pipeline(SimpleImputer(strategy='median'), StandardScaler())\n",
        "\n",
        "categorical_features = ['Pclass', 'Sex', 'Embarked']\n",
        "categorical_transformer = make_pipeline(SimpleImputer(strategy='most_frequent'), OneHotEncoder(handle_unknown='ignore'))\n",
        "\n",
        "preprocessor = ColumnTransformer(transformers=[\n",
        "    ('num', numeric_transformer, numeric_features),\n",
        "    ('cat', categorical_transformer, categorical_features)])\n",
        "\n",
        "# Models to train\n",
        "models = {\n",
        "    'XGBoost': XGBClassifier(use_label_encoder=False, eval_metric='logloss'),\n",
        "    'SVM': SVC(probability=True),  # Enable probability for ROC AUC score\n",
        "    'LogisticRegression': LogisticRegression(max_iter=1000),\n",
        "    'DecisionTree': DecisionTreeClassifier()\n",
        "}\n",
        "\n",
        "# Plot ROC curve and calculate AUC for each model\n",
        "plt.figure(figsize=(10, 8))\n",
        "\n",
        "for name, model in models.items():\n",
        "    pipeline = make_pipeline(preprocessor, model)\n",
        "    pipeline.fit(X_train, y_train)\n",
        "\n",
        "    if hasattr(pipeline[-1], \"predict_proba\"):\n",
        "        y_score = pipeline.predict_proba(X_test)[:, 1]\n",
        "    else:  # Use decision function if predict_proba is not available\n",
        "        y_score = pipeline.decision_function(X_test)\n",
        "\n",
        "    fpr, tpr, _ = roc_curve(y_test, y_score)\n",
        "    roc_auc = auc(fpr, tpr)\n",
        "\n",
        "    plt.plot(fpr, tpr, lw=2, label=f'{name} (area = {roc_auc:.2f})')\n",
        "\n",
        "plt.plot([0, 1], [0, 1], color='navy', lw=2, linestyle='--', label='Chance')\n",
        "plt.xlim([0.0, 1.0])\n",
        "plt.ylim([0.0, 1.05])\n",
        "plt.xlabel('False Positive Rate')\n",
        "plt.ylabel('True Positive Rate')\n",
        "plt.title('Receiver Operating Characteristic (ROC) Curve')\n",
        "plt.legend(loc='lower right')\n",
        "plt.show()\n"
      ],
      "metadata": {
        "colab": {
          "base_uri": "https://localhost:8080/",
          "height": 718
        },
        "id": "Kmb900wt-HDX",
        "outputId": "4470e917-71af-4f4f-dc75-98703e1a06d3"
      },
      "execution_count": 32,
      "outputs": [
        {
          "output_type": "display_data",
          "data": {
            "text/plain": [
              "<Figure size 1000x800 with 1 Axes>"
            ],
            "image/png": "[encoded data removed]"
          },
          "metadata": {}
        }
      ]
    },
    {
      "cell_type": "markdown",
      "source": [],
      "metadata": {
        "id": "DW2KChRv--YI"
      }
    },
    {
      "cell_type": "markdown",
      "source": [
        "Preprocesses the data by filling missing values and encoding categorical variables.\n",
        "Trains each model on the Titanic dataset.\n",
        "Calculates the ROC AUC score for each model, which is a measure of a model's ability to distinguish between the classes. Higher AUC values indicate better model performance.\n",
        "Plots the ROC curve for each model, providing a visual comparison of their performance."
      ],
      "metadata": {
        "id": "YzXiUIAD-TjY"
      }
    },
    {
      "cell_type": "code",
      "source": [
        "import pandas as pd\n",
        "from sklearn.model_selection import train_test_split\n",
        "from sklearn.metrics import roc_auc_score\n",
        "from xgboost import XGBClassifier\n",
        "from sklearn.svm import SVC\n",
        "from sklearn.linear_model import LogisticRegression\n",
        "from sklearn.tree import DecisionTreeClassifier\n",
        "from sklearn.ensemble import RandomForestClassifier\n",
        "from sklearn.pipeline import Pipeline\n",
        "from sklearn.compose import ColumnTransformer\n",
        "from sklearn.preprocessing import StandardScaler, OneHotEncoder\n",
        "from sklearn.impute import SimpleImputer\n",
        "\n",
        "\n",
        "X = titanic_data.drop('Survived', axis=1)\n",
        "y = titanic_data['Survived']\n",
        "\n",
        "X_train, X_test, y_train, y_test = train_test_split(X, y, test_size=0.2, random_state=42)\n",
        "\n",
        "# Preprocessor pipeline\n",
        "numeric_features = X.select_dtypes(include=['int64', 'float64']).columns\n",
        "categorical_features = X.select_dtypes(include=['object', 'bool']).columns\n",
        "\n",
        "numeric_transformer = Pipeline(steps=[\n",
        "    ('imputer', SimpleImputer(strategy='median')),\n",
        "    ('scaler', StandardScaler())])\n",
        "\n",
        "categorical_transformer = Pipeline(steps=[\n",
        "    ('imputer', SimpleImputer(strategy='most_frequent')),\n",
        "    ('onehot', OneHotEncoder(handle_unknown='ignore'))])\n",
        "\n",
        "preprocessor = ColumnTransformer(\n",
        "    transformers=[\n",
        "        ('num', numeric_transformer, numeric_features),\n",
        "        ('cat', categorical_transformer, categorical_features)])\n",
        "\n",
        "# Initializing models\n",
        "models = {\n",
        "    'RandomForest': RandomForestClassifier(n_estimators=100, random_state=42),\n",
        "    'XGBoost': XGBClassifier(use_label_encoder=False, eval_metric='logloss'),\n",
        "    'SVM': SVC(probability=True, random_state=42),\n",
        "    'LogisticRegression': LogisticRegression(max_iter=1000, random_state=42),\n",
        "    'DecisionTree': DecisionTreeClassifier(random_state=42)\n",
        "}\n",
        "\n",
        "for name, model in models.items():\n",
        "    # Create and fit the pipeline for each model\n",
        "    pipeline = Pipeline(steps=[('preprocessor', preprocessor),\n",
        "                               ('classifier', model)])\n",
        "    pipeline.fit(X_train, y_train)\n",
        "\n",
        "    # Predict probabilities\n",
        "    if hasattr(pipeline[-1], 'predict_proba'):\n",
        "        y_scores = pipeline.predict_proba(X_test)[:, 1]\n",
        "    else:  # Use decision function for models like SVM\n",
        "        y_scores = pipeline.decision_function(X_test)\n",
        "\n",
        "    # Compute ROC AUC score\n",
        "    roc_auc = roc_auc_score(y_test, y_scores)\n",
        "    print(f'{name} ROC AUC Score: {roc_auc:.4f}')\n"
      ],
      "metadata": {
        "colab": {
          "base_uri": "https://localhost:8080/"
        },
        "id": "HJl52Ox1-UIX",
        "outputId": "ccce611a-1aa5-489c-ac53-f1c8c8d6f2ec"
      },
      "execution_count": 34,
      "outputs": [
        {
          "output_type": "stream",
          "name": "stdout",
          "text": [
            "RandomForest ROC AUC Score: 0.8885\n",
            "XGBoost ROC AUC Score: 0.8656\n",
            "SVM ROC AUC Score: 0.8701\n",
            "LogisticRegression ROC AUC Score: 0.8959\n",
            "DecisionTree ROC AUC Score: 0.7827\n"
          ]
        }
      ]
    },
    {
      "cell_type": "markdown",
      "source": [
        "- The ROC AUC score is a measure of a model's ability to differentiate between the classes accurately. Scores closer to 1 indicate excellent performance, while scores closer to 0.5 suggest no better than random guessing.\n",
        "\n",
        "- **Logistic Regression** performed the best among the models with a score of **0.8959**, indicating it's the most effective at distinguishing between survivors and non-survivors on the Titanic.\n",
        "\n",
        "- **Random Forest** also showed strong performance with a score of **0.8885**, slightly behind Logistic Regression, suggesting it's quite good at prediction but with a bit less precision.\n",
        "\n",
        "- **SVM** and **XGBoost** had similar performances, with scores of **0.8701** and **0.8656** respectively, demonstrating their competent predictive capabilities though slightly lower than Logistic Regression and Random Forest.\n",
        "\n",
        "- The **Decision Tree** model had the lowest score of **0.7827**, which implies it had the least ability among the evaluated models to accurately distinguish between the classes, indicating more complexity or depth might be needed for better performance."
      ],
      "metadata": {
        "id": "o4QbS9oD_ANC"
      }
    }
  ]
}